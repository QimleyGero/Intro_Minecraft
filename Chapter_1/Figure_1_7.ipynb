{
 "cells": [
  {
   "cell_type": "code",
   "execution_count": 1,
   "id": "a9847c8e",
   "metadata": {},
   "outputs": [],
   "source": [
    "# -*- coding: utf-8 -*-\n",
    "\"\"\"\n",
    "    Introduction to Minecraft (Figure 1.7)\n",
    "    Created Dec 27 2022\n",
    "    @author: Qimley Gero (Xbox ID: CausedWheat4656)\n",
    "    @affiliation:   (1) Server of West Coast, USA; \n",
    "                    (2) Server of West Coast, China\n",
    "\"\"\"\n",
    "\n",
    "from math import pow,exp,pi\n",
    "from scipy.constants import codata\n",
    "from scipy import integrate\n",
    "import numpy as np\n",
    "import matplotlib.pyplot as plt\n",
    "from astropy import units as u\n",
    "import matplotlib.ticker as ticker\n",
    "import scipy.io\n",
    "import matplotlib as mpl\n",
    "%matplotlib widget\n",
    "mpl.rc('font', family='Sans')   ### change the font of the plot"
   ]
  },
  {
   "cell_type": "code",
   "execution_count": 2,
   "id": "0cf0db4c",
   "metadata": {},
   "outputs": [],
   "source": [
    "d1 = np.arange(0,1.000,0.0005)*np.ones((2000,2000))\n",
    "d2 = np.arange(1,2.000,0.0005)*np.ones((2000,2000))\n",
    "V1 = (np.arange(0,1.000,0.0005)*np.ones((2000,2000))).T\n",
    "V2 = (np.arange(1,2.000,0.0005)*np.ones((2000,2000))).T\n",
    "V1_d1 = V1 * (1-d1)\n",
    "V2_d1 = 1 - d1 / V2\n",
    "V2_d2 = 1 - d2 / V2\n",
    "I = np.zeros((4000,4000))\n",
    "length = np.arange(2,0,-1/2000)\n",
    "\n",
    "I[2000:4000,0:2000] = V1_d1[:,::-1]\n",
    "I[2000:4000,2000:4000] = V2_d1[:,::-1].T\n",
    "I[0:2000,2000:4000] = V2_d2[:,::-1].T\n",
    "\n",
    "for i in range(4000):\n",
    "    for ii in range(4000):\n",
    "        if I[i,ii] < 0:\n",
    "            I[i,ii] = 0\n",
    "I = I[:,::-1]"
   ]
  },
  {
   "cell_type": "code",
   "execution_count": 6,
   "id": "aaeeb7a1",
   "metadata": {},
   "outputs": [
    {
     "data": {
      "application/vnd.jupyter.widget-view+json": {
       "model_id": "781e3404b30b41b7808d0ee19c7b870d",
       "version_major": 2,
       "version_minor": 0
      },
      "text/plain": [
       "Canvas(toolbar=Toolbar(toolitems=[('Home', 'Reset original view', 'home', 'home'), ('Back', 'Back to previous …"
      ]
     },
     "metadata": {},
     "output_type": "display_data"
    }
   ],
   "source": [
    "color_grey = '#808080'\n",
    "u = np.arange(0,2.05,0.2)\n",
    "plt.ioff()\n",
    "fig = plt.figure(figsize=[5, 5])\n",
    "ax  = fig.add_subplot(1, 1, 1)\n",
    "#ax.set_xlim(0,2)\n",
    "#ax.set_ylim(0,2)\n",
    "level = ax.contour(length,length,1-I, levels=np.arange(-0.0000001,1,.05),cmap='winter')\n",
    "#ax.clabel(level, level.levels, fontsize=8,fmt ='% 1.2f')\n",
    "ax.set_xticks(u)\n",
    "ax.set_yticks(u)\n",
    "ax.set_aspect('equal', adjustable='box')\n",
    "ax.set_ylabel(r\"$d$ [chunk]\", fontsize = 14)\n",
    "ax.set_xlabel(r\"$V$\", fontsize = 14)\n",
    "ax.yaxis.label.set_color(color_grey)\n",
    "ax.xaxis.label.set_color(color_grey)\n",
    "ax.spines[\"right\"].set_color(color_grey)\n",
    "ax.spines[\"left\"].set_color(color_grey)\n",
    "ax.spines[\"top\"].set_color(color_grey)\n",
    "ax.spines[\"bottom\"].set_color(color_grey)\n",
    "ax.yaxis.label.set_color(color_grey)\n",
    "ax.xaxis.label.set_color(color_grey)\n",
    "ax.tick_params(axis='y', colors=color_grey)\n",
    "ax.tick_params(axis='x', colors=color_grey)\n",
    "fig.tight_layout(pad=1, w_pad=1, h_pad=0)\n",
    "fig.savefig('E:/Introduction_to_Minecraft/Figures/1_7.png',dpi=600)\n",
    "plt.show()"
   ]
  }
 ],
 "metadata": {
  "kernelspec": {
   "display_name": "Python 3",
   "language": "python",
   "name": "python3"
  },
  "language_info": {
   "codemirror_mode": {
    "name": "ipython",
    "version": 3
   },
   "file_extension": ".py",
   "mimetype": "text/x-python",
   "name": "python",
   "nbconvert_exporter": "python",
   "pygments_lexer": "ipython3",
   "version": "3.8.8"
  }
 },
 "nbformat": 4,
 "nbformat_minor": 5
}
