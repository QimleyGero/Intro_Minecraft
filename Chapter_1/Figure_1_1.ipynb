{
 "cells": [
  {
   "cell_type": "code",
   "execution_count": 79,
   "id": "908aedc9",
   "metadata": {},
   "outputs": [],
   "source": [
    "# -*- coding: utf-8 -*-\n",
    "\"\"\"\n",
    "    Introduction to Minecraft (Figure 1.1)\n",
    "    Created Dec 26 2022\n",
    "    @author: Qimley Gero (Xbox ID: CausedWheat4656)\n",
    "    @affiliation:   (1) Server of West Coast, USA; \n",
    "                    (2) Server of West Coast, China\n",
    "\"\"\"\n",
    "\n",
    "from math import pow,exp,pi\n",
    "from scipy.constants import codata\n",
    "from scipy import integrate\n",
    "import numpy as np\n",
    "import matplotlib.pyplot as plt\n",
    "from astropy import units as u\n",
    "import scipy.io\n",
    "import matplotlib as mpl\n",
    "%matplotlib widget\n",
    "mpl.rc('font', family='Sans', weight='bold')   ### change the font of the plot"
   ]
  },
  {
   "cell_type": "code",
   "execution_count": 128,
   "id": "23606eae",
   "metadata": {},
   "outputs": [
    {
     "data": {
      "application/vnd.jupyter.widget-view+json": {
       "model_id": "08232a9f8b634018b04a09a912a8601d",
       "version_major": 2,
       "version_minor": 0
      },
      "text/plain": [
       "Canvas(toolbar=Toolbar(toolitems=[('Home', 'Reset original view', 'home', 'home'), ('Back', 'Back to previous …"
      ]
     },
     "metadata": {},
     "output_type": "display_data"
    }
   ],
   "source": [
    "color_x = '#50A3A4'\n",
    "color_y = '#FCAF38'\n",
    "color_z = '#F95335'\n",
    "color_o = '#674A40'\n",
    "\n",
    "plt.ioff()\n",
    "a1 = np.array([[0.5, 0, 0], [1, 0, 0]])*45\n",
    "a2 = np.array([[0, 0.5, 0], [0, 1, 0]])*45\n",
    "a3 = np.array([[0, 0, 0.5], [0, 0, 1]])*45\n",
    "\n",
    "s1 = np.array([[0,0,0],[0.5, 0, 0]])*45\n",
    "s2 = np.array([[0,0,0],[0, 0.5, 0]])*45\n",
    "s3 = np.array([[0,0,0],[0, 0, 0.5]])*45\n",
    "\n",
    "p1 = np.array([[-1, 0, 0], [1, 0, 0]])*90\n",
    "p2 = np.array([[0, -1, 0], [0, 1, 0]])*90\n",
    "p3 = np.array([[0, 0, -1], [0, 0, 1]])*90\n",
    "\n",
    "def xyz(coordinates):\n",
    "    x = []\n",
    "    y = []\n",
    "    z = []\n",
    "    for coordinate in coordinates:\n",
    "        x.append(coordinate[0])\n",
    "        y.append(coordinate[1])\n",
    "        z.append(coordinate[2])\n",
    "    return z, x, y\n",
    "\n",
    "fig = plt.figure(figsize=[5, 4])\n",
    "ax  = fig.add_subplot(1, 1, 1, projection='3d')\n",
    "x, y, z = xyz(p1)\n",
    "plt.plot(x, y, z, color=color_x, linewidth=1, linestyle='dotted')\n",
    "x, y, z = xyz(p2)\n",
    "plt.plot(x, y, z, color=color_y, linewidth=1, linestyle='dotted')\n",
    "x, y, z = xyz(p3)\n",
    "plt.plot(x, y, z, color=color_z, linewidth=1, linestyle='dotted')\n",
    "\n",
    "x, y, z = xyz(s1)\n",
    "plt.plot(x, y, z, color=color_x, linewidth=2)\n",
    "x, y, z = xyz(s2)\n",
    "plt.plot(x, y, z, color=color_y, linewidth=2)\n",
    "x, y, z = xyz(s3)\n",
    "plt.plot(x, y, z, color=color_z, linewidth=2)\n",
    "\n",
    "x, y, z = xyz(a1)\n",
    "ax.quiver(x[0], y[0], z[0], x[1], y[1], z[1], color=color_x, linewidth=2)\n",
    "x, y, z = xyz(a2)\n",
    "ax.quiver(x[0], y[0], z[0], x[1], y[1], z[1], color=color_y, linewidth=2)\n",
    "x, y, z = xyz(a3)\n",
    "ax.quiver(x[0], y[0], z[0], x[1], y[1], z[1], color=color_z, linewidth=2,capstyle = 'projecting')\n",
    "\n",
    "\"\"\"\n",
    "ax.set_xlabel(r'$z$')\n",
    "ax.set_ylabel(r'$x$')\n",
    "ax.set_zlabel(r'$y$')\n",
    "\"\"\"\n",
    "ax.set_axis_off()\n",
    "ax.set_xlim(-35, 35)\n",
    "ax.set_ylim(-35, 35)\n",
    "ax.set_zlim(-15, 55)\n",
    "\n",
    "ax.text2D(0.49, 0.30, r\"$O$\", color =  color_o, fontsize = 20, transform=ax.transAxes)\n",
    "ax.text2D(0.89, 0.16, r\"$x$\", color =  color_x, fontsize = 20, transform=ax.transAxes)\n",
    "ax.text2D(0.55, 0.75, r\"$y$\", color =  color_y, fontsize = 20, transform=ax.transAxes)\n",
    "ax.text2D(0.11, 0.16, r\"$z$\", color =  color_z, fontsize = 20, transform=ax.transAxes)\n",
    "ax.text2D(0.446, 0.26, \"(Origin)\", color =  color_o, fontsize = 10, transform=ax.transAxes)\n",
    "ax.text2D(0.857, 0.12, \"(East)\", color =  color_x, fontsize = 10, transform=ax.transAxes)\n",
    "ax.text2D(0.532, 0.7, \"(Up)\", color =  color_y, fontsize = 10, transform=ax.transAxes)\n",
    "ax.text2D(0.06, 0.12, \"(South)\", color =  color_z, fontsize = 10, transform=ax.transAxes)\n",
    "\n",
    "fig.tight_layout(pad=0, w_pad=0, h_pad=0)\n",
    "#fig.savefig('E:/Introduction_to_Minecraft/Figures/1_1.png',dpi=1800)\n",
    "plt.show()"
   ]
  }
 ],
 "metadata": {
  "kernelspec": {
   "display_name": "Python 3",
   "language": "python",
   "name": "python3"
  },
  "language_info": {
   "codemirror_mode": {
    "name": "ipython",
    "version": 3
   },
   "file_extension": ".py",
   "mimetype": "text/x-python",
   "name": "python",
   "nbconvert_exporter": "python",
   "pygments_lexer": "ipython3",
   "version": "3.8.8"
  }
 },
 "nbformat": 4,
 "nbformat_minor": 5
}
