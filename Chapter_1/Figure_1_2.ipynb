{
 "cells": [
  {
   "cell_type": "code",
   "execution_count": 1,
   "id": "e3ea01d9",
   "metadata": {},
   "outputs": [],
   "source": [
    "# -*- coding: utf-8 -*-\n",
    "\"\"\"\n",
    "    Introduction to Minecraft (Figure 1.2)\n",
    "    Created Dec 26 2022\n",
    "    @author: Qimley Gero (Xbox ID: CausedWheat4656)\n",
    "    @affiliation:   (1) Server of West Coast, USA; \n",
    "                    (2) Server of West Coast, China\n",
    "\"\"\"\n",
    "\n",
    "from math import pow,exp,pi\n",
    "from scipy.constants import codata\n",
    "from scipy import integrate\n",
    "import numpy as np\n",
    "import matplotlib.pyplot as plt\n",
    "from astropy import units as u\n",
    "import scipy.io\n",
    "import matplotlib as mpl\n",
    "%matplotlib widget\n",
    "mpl.rc('font', family='Sans', weight='normal')   ### change the font of the plot"
   ]
  },
  {
   "cell_type": "code",
   "execution_count": 106,
   "id": "356e9c14",
   "metadata": {},
   "outputs": [
    {
     "data": {
      "application/vnd.jupyter.widget-view+json": {
       "model_id": "311442e021914e42a8dceadcacf051b1",
       "version_major": 2,
       "version_minor": 0
      },
      "text/plain": [
       "Canvas(toolbar=Toolbar(toolitems=[('Home', 'Reset original view', 'home', 'home'), ('Back', 'Back to previous …"
      ]
     },
     "metadata": {},
     "output_type": "display_data"
    }
   ],
   "source": [
    "color_E = '#50A3A4'\n",
    "color_T = '#FCAF38'\n",
    "color_C = '#F95335'\n",
    "color_grey = '#808080'\n",
    "\n",
    "ox_1 = 0\n",
    "oy_1 = 0\n",
    "ox_2 = 4\n",
    "oy_2 = 3\n",
    "Tx = 4\n",
    "Ty = 0\n",
    "Cx = 0\n",
    "Cy = 3\n",
    "\n",
    "plt.ioff()\n",
    "fig = plt.figure(figsize=[5, 4])\n",
    "ax  = fig.add_subplot(1, 1, 1)\n",
    "for x in range(5):\n",
    "    plt.plot([x,x],[0,3], color = color_grey, linestyle='dotted', zorder=-2)\n",
    "    \n",
    "for y in range(4):\n",
    "    plt.plot([0,4],[y,y], color = color_grey, linestyle='dotted', zorder=-2)\n",
    "\n",
    "    \n",
    "plt.plot([0,ox_2],[oy_2,oy_2], color = color_C, linestyle='dashed', zorder=-1.5)\n",
    "\n",
    "plt.annotate(text='', xy=(ox_2,oy_2), xytext=(ox_1,oy_1), arrowprops=dict(arrowstyle='<->', color = color_E, linewidth = 3), zorder=-1)\n",
    "plt.annotate(text='', xy=(ox_2,oy_1), xytext=(ox_1,oy_1), arrowprops=dict(arrowstyle='<->', color = color_T, linewidth = 3), zorder=-1)\n",
    "plt.annotate(text='', xy=(ox_2,oy_2), xytext=(ox_2,oy_1), arrowprops=dict(arrowstyle='<->', color = color_T, linewidth = 3), zorder=-1)\n",
    "plt.annotate(text='', xy=(ox_1,oy_2), xytext=(ox_1,oy_1), arrowprops=dict(arrowstyle='<->', color = color_C, linewidth = 3), zorder=-1)\n",
    "\n",
    "plt.scatter(ox_1, oy_1, color = color_grey, s=100,zorder=0)\n",
    "plt.scatter(ox_2, oy_2, color = color_grey, s=100, zorder=0)\n",
    "plt.scatter(Tx, Ty, color = color_T, s=100, zorder=0)\n",
    "plt.scatter(Cx, Cy, color = color_C, s=100, zorder=0)\n",
    "\n",
    "plt.text(0.06,0.48, '$d_{C}$', color =  color_C, fontsize = 16, transform=ax.transAxes)\n",
    "plt.text(0.41,0.48, '$d_{E}$', color =  color_E, fontsize = 16, transform=ax.transAxes)\n",
    "plt.text(0.89,0.08, '$d_{T}$', color =  color_T, fontsize = 16, transform=ax.transAxes)\n",
    "\n",
    "plt.text(0.03,-0.02, '$A (0,0)$', color =  color_grey, fontsize = 16, transform=ax.transAxes)\n",
    "plt.text(0.81,0.97, '$B (4,3)$', color =  color_grey, fontsize = 16, transform=ax.transAxes)\n",
    "\n",
    "plt.axis('off')\n",
    "fig.tight_layout(pad=0, w_pad=0, h_pad=0)\n",
    "fig.savefig('E:/Introduction_to_Minecraft/Figures/1_2.png',dpi=600)\n",
    "plt.show()"
   ]
  }
 ],
 "metadata": {
  "kernelspec": {
   "display_name": "Python 3",
   "language": "python",
   "name": "python3"
  },
  "language_info": {
   "codemirror_mode": {
    "name": "ipython",
    "version": 3
   },
   "file_extension": ".py",
   "mimetype": "text/x-python",
   "name": "python",
   "nbconvert_exporter": "python",
   "pygments_lexer": "ipython3",
   "version": "3.8.8"
  }
 },
 "nbformat": 4,
 "nbformat_minor": 5
}
