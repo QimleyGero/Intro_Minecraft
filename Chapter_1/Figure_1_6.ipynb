{
 "cells": [
  {
   "cell_type": "code",
   "execution_count": 1,
   "id": "461eaede",
   "metadata": {},
   "outputs": [],
   "source": [
    "# -*- coding: utf-8 -*-\n",
    "\"\"\"\n",
    "    Introduction to Minecraft (Figure 1.6)\n",
    "    Created Dec 27 2022\n",
    "    @author: Qimley Gero (Xbox ID: CausedWheat4656)\n",
    "    @affiliation:   (1) Server of West Coast, USA; \n",
    "                    (2) Server of West Coast, China\n",
    "\"\"\"\n",
    "\n",
    "from math import pow,exp,pi\n",
    "from scipy.constants import codata\n",
    "from scipy import integrate\n",
    "import numpy as np\n",
    "import matplotlib.pyplot as plt\n",
    "from astropy import units as u\n",
    "import scipy.io\n",
    "import matplotlib as mpl\n",
    "%matplotlib widget\n",
    "mpl.rc('font', family='Sans')   ### change the font of the plot"
   ]
  },
  {
   "cell_type": "code",
   "execution_count": 13,
   "id": "25c2c813",
   "metadata": {},
   "outputs": [],
   "source": [
    "T_default = 0.5\n",
    "T_desert = 2.0\n",
    "T_snowy_plain = 0\n",
    "T_mountain = 0.2\n",
    "T_taiga = 0.3\n",
    "T_taiga_hill = 0.25\n",
    "T_swamp = 0.8\n",
    "\n",
    "y_low = 0\n",
    "y_high = 500\n",
    "y0 = 73\n",
    "\n",
    "height = np.arange(y_low,y_high,1)\n",
    "lapse = -0.00125\n",
    "T_default_height = np.ones(y_high-y_low) * T_default\n",
    "T_desert_height = np.ones(y_high-y_low) * T_desert\n",
    "T_snowy_plain_height = np.ones(y_high-y_low) * T_snowy_plain\n",
    "T_mountain_height = np.ones(y_high-y_low) * T_mountain\n",
    "T_taiga_height = np.ones(y_high-y_low) * T_taiga\n",
    "T_taiga_hill_height = np.ones(y_high-y_low) * T_taiga_hill\n",
    "T_swamp_height = np.ones(y_high-y_low) * T_swamp\n",
    "\n",
    "\n",
    "def temp_lapse(Temp):\n",
    "    for h in np.arange(y0+1,y_high,1):\n",
    "        Temp[h] = Temp[h] + lapse * (h - y0)\n",
    "    return Temp\n",
    "\n",
    "T_default_height =temp_lapse(T_default_height)\n",
    "T_desert_height =temp_lapse(T_desert_height)\n",
    "T_snowy_plain_height =temp_lapse(T_snowy_plain_height)\n",
    "T_mountain_height =temp_lapse(T_mountain_height)\n",
    "T_taiga_height =temp_lapse(T_taiga_height)\n",
    "T_taiga_hill_height =temp_lapse(T_taiga_hill_height)\n",
    "T_swamp_height =temp_lapse(T_swamp_height)"
   ]
  },
  {
   "cell_type": "code",
   "execution_count": 99,
   "id": "952ea3f8",
   "metadata": {},
   "outputs": [
    {
     "data": {
      "application/vnd.jupyter.widget-view+json": {
       "model_id": "999ea5037ec341e79c9b0d9c3eb23b87",
       "version_major": 2,
       "version_minor": 0
      },
      "text/plain": [
       "Canvas(toolbar=Toolbar(toolitems=[('Home', 'Reset original view', 'home', 'home'), ('Back', 'Back to previous …"
      ]
     },
     "metadata": {},
     "output_type": "display_data"
    }
   ],
   "source": [
    "color_default = '#674A40'\n",
    "color_snowy_plain = '#7E549F'\n",
    "color_taiga_hill = '#6C8A9B'\n",
    "color_ice = '#4AB1D8'\n",
    "color_taiga = '#8DBD61'\n",
    "color_swamp = '#ED639E'\n",
    "color_ground = '#874356'\n",
    "color_mountain = '#FF662A'\n",
    "color_grey = '#808080'\n",
    "\n",
    "plt.ioff()\n",
    "fig = plt.figure(figsize=[9, 4])\n",
    "ax  = fig.add_subplot(1, 1, 1)\n",
    "\n",
    "ax.plot(T_default_height, height, color = color_default, zorder=-1)\n",
    "ax.plot(T_snowy_plain_height, height, color = color_snowy_plain, zorder=-1)\n",
    "ax.plot(T_mountain_height, height, color = color_mountain, zorder=-1)\n",
    "ax.plot(T_taiga_height, height, color = color_taiga, zorder=-1)\n",
    "ax.plot(T_taiga_hill_height, height, color = color_taiga_hill, zorder=-1)\n",
    "ax.plot(T_swamp_height, height, color = color_swamp, zorder=-1)\n",
    "ax.plot([0.15, 0.15], [0,y_high], color = color_ice, linestyle='dotted', zorder=-2)\n",
    "ax.plot([-0.55,1], [y0,y0], color = color_ground, linestyle='dotted', zorder=-2, alpha=.5)\n",
    "ax.plot([-0.55,1], [320,320], color = color_grey, linestyle='dotted', zorder=-2)\n",
    "\n",
    "ax.text(0.682,0.02, 'Default', color =  color_default, transform=ax.transAxes, rotation=90, fontsize=9)\n",
    "ax.text(0.35,0.02, 'Snowy Plain', color =  color_snowy_plain, transform=ax.transAxes, rotation=90, fontsize=9)\n",
    "ax.text(0.482,0.02, 'Mountain', color =  color_mountain, transform=ax.transAxes, rotation=90, fontsize=9)\n",
    "ax.text(0.55,0.02, 'Taiga', color =  color_taiga, transform=ax.transAxes, rotation=90, fontsize=9)\n",
    "ax.text(0.517,0.02, 'Taiga Hill', color =  color_taiga_hill, transform=ax.transAxes, rotation=90, fontsize=9)\n",
    "ax.text(0.882,0.02, 'Swamp', color =  color_swamp, transform=ax.transAxes, rotation=90, fontsize=9)\n",
    "ax.text(0.452,0.02, 'Snow Line', color =  color_ice, transform=ax.transAxes, rotation=90, fontsize=9)\n",
    "ax.text(0.005,0.18, '$y_{0}=73$', color =  color_ground, transform=ax.transAxes, fontsize=10)\n",
    "ax.text(0.005,0.93, '$y_{upper}=320$', color =  color_grey, transform=ax.transAxes, fontsize=10)\n",
    "ax.text(0.446,-0.06, '0.15', color =  color_ice, transform=ax.transAxes, fontsize=10)\n",
    "\n",
    "ax.text(0.005,0.5, 'Possible to Have\\nSnow Accumulation\\nin the Shaded Area', color =  '#C15494', transform=ax.transAxes, fontsize=12, style ='italic')\n",
    "\n",
    "ax.fill([-1,0.15,0.15,-1], [0,0,320,320], \"blue\", alpha=0.1)\n",
    "\n",
    "ax.set_ylabel(r\"$y$ [block]\", fontsize = 14)\n",
    "ax.set_xlabel(r\"$T$\", fontsize = 14)\n",
    "ax.yaxis.label.set_color(color_grey)\n",
    "ax.xaxis.label.set_color(color_grey)\n",
    "ax.spines[\"right\"].set_color(color_grey)\n",
    "ax.spines[\"left\"].set_color(color_grey)\n",
    "ax.spines[\"top\"].set_color(color_grey)\n",
    "ax.spines[\"bottom\"].set_color(color_grey)\n",
    "ax.yaxis.label.set_color(color_grey)\n",
    "ax.xaxis.label.set_color(color_grey)\n",
    "ax.tick_params(axis='y', colors=color_grey)\n",
    "ax.tick_params(axis='x', colors=color_grey)\n",
    "ax.set_xlim(-0.55,0.95)\n",
    "ax.set_ylim(0,330)\n",
    "fig.tight_layout(pad=0.5, w_pad=0, h_pad=0)\n",
    "\n",
    "fig.savefig('E:/Introduction_to_Minecraft/Figures/1_6.png',dpi=600)\n",
    "plt.show()"
   ]
  }
 ],
 "metadata": {
  "kernelspec": {
   "display_name": "Python 3",
   "language": "python",
   "name": "python3"
  },
  "language_info": {
   "codemirror_mode": {
    "name": "ipython",
    "version": 3
   },
   "file_extension": ".py",
   "mimetype": "text/x-python",
   "name": "python",
   "nbconvert_exporter": "python",
   "pygments_lexer": "ipython3",
   "version": "3.8.8"
  }
 },
 "nbformat": 4,
 "nbformat_minor": 5
}
