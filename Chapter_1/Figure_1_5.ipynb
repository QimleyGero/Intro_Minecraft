{
 "cells": [
  {
   "cell_type": "code",
   "execution_count": 1,
   "id": "cca677cc",
   "metadata": {},
   "outputs": [],
   "source": [
    "# -*- coding: utf-8 -*-\n",
    "\"\"\"\n",
    "    Introduction to Minecraft (Figure 1.5)\n",
    "    Created Dec 26 2022\n",
    "    @author: Qimley Gero (Xbox ID: CausedWheat4656)\n",
    "    @affiliation:   (1) Server of West Coast, USA; \n",
    "                    (2) Server of West Coast, China\n",
    "\"\"\"\n",
    "\n",
    "from math import pow,exp,pi\n",
    "from scipy.constants import codata\n",
    "from scipy import integrate\n",
    "import numpy as np\n",
    "import matplotlib.pyplot as plt\n",
    "from astropy import units as u\n",
    "import scipy.io\n",
    "import matplotlib as mpl\n",
    "%matplotlib widget\n",
    "mpl.rc('font', family='Sans', weight='normal')   ### change the font of the plot"
   ]
  },
  {
   "cell_type": "code",
   "execution_count": 231,
   "id": "da97e6c3",
   "metadata": {
    "scrolled": false
   },
   "outputs": [
    {
     "name": "stderr",
     "output_type": "stream",
     "text": [
      "<ipython-input-231-0a09b798631b>:90: RuntimeWarning: invalid value encountered in true_divide\n",
      "  axes[1].quiver(X, Y, (x_gradient_matrix/np.sqrt(x_gradient_matrix**2+y_gradient_matrix**2)), (y_gradient_matrix/np.sqrt(x_gradient_matrix**2+y_gradient_matrix**2)), color='#F1485B', angles='xy', scale_units='xy', pivot='mid', scale=1.2, zorder=-1, headwidth=6)\n"
     ]
    },
    {
     "data": {
      "application/vnd.jupyter.widget-view+json": {
       "model_id": "1a7f3b647c9c4017945b056d81cb9ca9",
       "version_major": 2,
       "version_minor": 0
      },
      "text/plain": [
       "Canvas(toolbar=Toolbar(toolitems=[('Home', 'Reset original view', 'home', 'home'), ('Back', 'Back to previous …"
      ]
     },
     "metadata": {},
     "output_type": "display_data"
    }
   ],
   "source": [
    "size = 32\n",
    "surface = np.zeros((size, size))\n",
    "xmin = 0\n",
    "xmax = size - 1\n",
    "surface[8,8] = 8\n",
    "surface[8,18] = 8\n",
    "surface[12,8] = 8\n",
    "surface[17,8] = 8\n",
    "surface[22,19] = 8\n",
    "\n",
    "maxt = 2\n",
    "for t in range(maxt):\n",
    "    old_surface = surface\n",
    "    for x in np.arange(1,size-1):\n",
    "        for y in np.arange(1,size-1):\n",
    "            if surface[x,y] < 8:\n",
    "                p = 0\n",
    "                if surface[x+1,y] == 8:\n",
    "                    p += 1\n",
    "                if surface[x,y+1] == 8:\n",
    "                    p += 1\n",
    "                if surface[x-1,y] == 8:\n",
    "                    p += 1\n",
    "                if surface[x,y-1] == 8:\n",
    "                    p += 1\n",
    "                if p > 1:\n",
    "                    surface[x,y] = 8\n",
    "    if np.abs(np.max(old_surface - surface))<1:\n",
    "        break\n",
    "    else:\n",
    "        old_surface = surface\n",
    "\n",
    "for height in np.arange(8,0,-1):\n",
    "    for t in range(maxt):\n",
    "        old_surface = surface\n",
    "        for x in np.arange(1,size-1):\n",
    "            for y in np.arange(1,size-1):\n",
    "                if surface[x+1,y] - surface[x,y] > 1:\n",
    "                    surface[x,y] = surface[x+1,y] - 1\n",
    "                if surface[x-1,y] - surface[x,y] > 1:\n",
    "                    surface[x,y] = surface[x-1,y] - 1\n",
    "                if surface[x,y+1] - surface[x,y] > 1:\n",
    "                    surface[x,y] = surface[x,y+1] - 1\n",
    "                if surface[x,y-1] - surface[x,y] > 1:\n",
    "                    surface[x,y] = surface[x,y-1] - 1\n",
    "        if np.abs(np.max(old_surface - surface))<1:\n",
    "            break\n",
    "        else:\n",
    "            old_surface = surface\n",
    "\n",
    "surface_new = surface[1:size-1,1:size-1] * np.ones((size-2,size-2))\n",
    "surface_new_1 = surface_new * np.ones((size-2,size-2))\n",
    "\n",
    "for x in range(size-2):\n",
    "    for y in range(size-2):\n",
    "        if surface_new_1[x,y]==0:\n",
    "            surface_new_1[x,y] = 1\n",
    "\n",
    "surface_1 = surface * np.ones((size,size))\n",
    "for x in range(size):\n",
    "    for y in range(size):\n",
    "        if surface_1[x,y]==0:\n",
    "            surface_1[x,y] = 1\n",
    "\n",
    "y_gradient_matrix = (surface_1[:-2,1:size-1] - surface_new_1) - (surface_1[2:,1:size-1] - surface_new_1)\n",
    "x_gradient_matrix = (surface_1[1:size-1,:-2] - surface_new_1) - (surface_1[1:size-1,2:] - surface_new_1)\n",
    "\n",
    "for x in range(size-2):\n",
    "    for y in range(size-2):\n",
    "        if surface_new[x,y]==0:\n",
    "            y_gradient_matrix[x,y] = 0\n",
    "            x_gradient_matrix[x,y] = 0\n",
    "\n",
    "X = np.arange(size-2)\n",
    "Y = np.arange(size-2)\n",
    "\n",
    "\n",
    "color_grey = '#808080'\n",
    "\n",
    "plt.ioff()\n",
    "fig, axes  = plt.subplots(1,2)\n",
    "fig.set_figwidth(9)\n",
    "axes[0].set_title('(a)',loc='left')\n",
    "axes[0].imshow(surface_new, cmap='ocean', interpolation='nearest')\n",
    "axes[0].axis('off')\n",
    "axes[0].set_xlim(-0.5,size-3.5)\n",
    "axes[0].set_ylim(-0.5,size-3.5)\n",
    "axes[1].set_title('(b)',loc='left')\n",
    "axes[1].contour(X, Y, surface_new, cmap='ocean', levels=np.arange(1,8.49,1), alpha = .3, zorder=-2)\n",
    "axes[1].quiver(X, Y, (x_gradient_matrix/np.sqrt(x_gradient_matrix**2+y_gradient_matrix**2)), (y_gradient_matrix/np.sqrt(x_gradient_matrix**2+y_gradient_matrix**2)), color='#F1485B', angles='xy', scale_units='xy', pivot='mid', scale=1.2, zorder=-1, headwidth=6)\n",
    "axes[1].axis('off')\n",
    "for x in np.arange(-0.5, size-2, 1):\n",
    "    axes[1].plot([x,x],[-0.5,size-3.5],color=color_grey, linestyle='dotted', lw=0.5)\n",
    "    axes[1].plot([-0.5,size-3.5],[x,x],color=color_grey, linestyle='dotted', lw=0.5)\n",
    "axes[1].set_xlim(-0.56,size-3.4)\n",
    "axes[1].set_ylim(-0.56,size-3.4)\n",
    "axes[1].set_aspect('equal', adjustable='box')\n",
    "fig.tight_layout(pad=0.5, w_pad=1, h_pad=0)\n",
    "fig.savefig('E:/Introduction_to_Minecraft/Figures/1_5.png',dpi=600)\n",
    "plt.show()"
   ]
  }
 ],
 "metadata": {
  "kernelspec": {
   "display_name": "Python 3",
   "language": "python",
   "name": "python3"
  },
  "language_info": {
   "codemirror_mode": {
    "name": "ipython",
    "version": 3
   },
   "file_extension": ".py",
   "mimetype": "text/x-python",
   "name": "python",
   "nbconvert_exporter": "python",
   "pygments_lexer": "ipython3",
   "version": "3.8.8"
  }
 },
 "nbformat": 4,
 "nbformat_minor": 5
}
